{
  "cells": [
    {
      "cell_type": "markdown",
      "metadata": {
        "id": "view-in-github",
        "colab_type": "text"
      },
      "source": [
        "<a href=\"https://colab.research.google.com/github/willkakuta/Exercicios_Estatistica_Inferencial/blob/main/Exerc%C3%ADcio_Estat%C3%ADstica_Inferencial_DNC.ipynb\" target=\"_parent\"><img src=\"https://colab.research.google.com/assets/colab-badge.svg\" alt=\"Open In Colab\"/></a>"
      ]
    },
    {
      "cell_type": "markdown",
      "source": [
        "# Import e Conhecendo os dados"
      ],
      "metadata": {
        "id": "kLrY19gWG0Us"
      }
    },
    {
      "cell_type": "code",
      "execution_count": 4,
      "metadata": {
        "id": "qC5sACf1v1Qe"
      },
      "outputs": [],
      "source": [
        "# Importação das bibliotecas\n",
        "from google.colab import files\n",
        "\n",
        "import numpy as np\n",
        "import pandas as pd\n",
        "\n",
        "import seaborn as sns\n",
        "import matplotlib.pyplot as plt\n",
        "\n",
        "from scipy import stats"
      ]
    },
    {
      "cell_type": "code",
      "execution_count": 5,
      "metadata": {
        "id": "qJPJdg7-v17E",
        "outputId": "359d7878-5f91-45c9-af7e-50934eb3f413",
        "colab": {
          "base_uri": "https://localhost:8080/",
          "height": 206
        }
      },
      "outputs": [
        {
          "output_type": "execute_result",
          "data": {
            "text/plain": [
              "   Store        Date  Weekly_Sales  Holiday_Flag  Temperature  Fuel_Price  \\\n",
              "0      1  05-02-2010    1643690.90             0        42.31       2.572   \n",
              "1      1  12-02-2010    1641957.44             1        38.51       2.548   \n",
              "2      1  19-02-2010    1611968.17             0        39.93       2.514   \n",
              "3      1  26-02-2010    1409727.59             0        46.63       2.561   \n",
              "4      1  05-03-2010    1554806.68             0        46.50       2.625   \n",
              "\n",
              "          CPI  Unemployment  \n",
              "0  211.096358         8.106  \n",
              "1  211.242170         8.106  \n",
              "2  211.289143         8.106  \n",
              "3  211.319643         8.106  \n",
              "4  211.350143         8.106  "
            ],
            "text/html": [
              "\n",
              "  <div id=\"df-66135fea-38e1-4317-8e04-7f384d428b6f\">\n",
              "    <div class=\"colab-df-container\">\n",
              "      <div>\n",
              "<style scoped>\n",
              "    .dataframe tbody tr th:only-of-type {\n",
              "        vertical-align: middle;\n",
              "    }\n",
              "\n",
              "    .dataframe tbody tr th {\n",
              "        vertical-align: top;\n",
              "    }\n",
              "\n",
              "    .dataframe thead th {\n",
              "        text-align: right;\n",
              "    }\n",
              "</style>\n",
              "<table border=\"1\" class=\"dataframe\">\n",
              "  <thead>\n",
              "    <tr style=\"text-align: right;\">\n",
              "      <th></th>\n",
              "      <th>Store</th>\n",
              "      <th>Date</th>\n",
              "      <th>Weekly_Sales</th>\n",
              "      <th>Holiday_Flag</th>\n",
              "      <th>Temperature</th>\n",
              "      <th>Fuel_Price</th>\n",
              "      <th>CPI</th>\n",
              "      <th>Unemployment</th>\n",
              "    </tr>\n",
              "  </thead>\n",
              "  <tbody>\n",
              "    <tr>\n",
              "      <th>0</th>\n",
              "      <td>1</td>\n",
              "      <td>05-02-2010</td>\n",
              "      <td>1643690.90</td>\n",
              "      <td>0</td>\n",
              "      <td>42.31</td>\n",
              "      <td>2.572</td>\n",
              "      <td>211.096358</td>\n",
              "      <td>8.106</td>\n",
              "    </tr>\n",
              "    <tr>\n",
              "      <th>1</th>\n",
              "      <td>1</td>\n",
              "      <td>12-02-2010</td>\n",
              "      <td>1641957.44</td>\n",
              "      <td>1</td>\n",
              "      <td>38.51</td>\n",
              "      <td>2.548</td>\n",
              "      <td>211.242170</td>\n",
              "      <td>8.106</td>\n",
              "    </tr>\n",
              "    <tr>\n",
              "      <th>2</th>\n",
              "      <td>1</td>\n",
              "      <td>19-02-2010</td>\n",
              "      <td>1611968.17</td>\n",
              "      <td>0</td>\n",
              "      <td>39.93</td>\n",
              "      <td>2.514</td>\n",
              "      <td>211.289143</td>\n",
              "      <td>8.106</td>\n",
              "    </tr>\n",
              "    <tr>\n",
              "      <th>3</th>\n",
              "      <td>1</td>\n",
              "      <td>26-02-2010</td>\n",
              "      <td>1409727.59</td>\n",
              "      <td>0</td>\n",
              "      <td>46.63</td>\n",
              "      <td>2.561</td>\n",
              "      <td>211.319643</td>\n",
              "      <td>8.106</td>\n",
              "    </tr>\n",
              "    <tr>\n",
              "      <th>4</th>\n",
              "      <td>1</td>\n",
              "      <td>05-03-2010</td>\n",
              "      <td>1554806.68</td>\n",
              "      <td>0</td>\n",
              "      <td>46.50</td>\n",
              "      <td>2.625</td>\n",
              "      <td>211.350143</td>\n",
              "      <td>8.106</td>\n",
              "    </tr>\n",
              "  </tbody>\n",
              "</table>\n",
              "</div>\n",
              "      <button class=\"colab-df-convert\" onclick=\"convertToInteractive('df-66135fea-38e1-4317-8e04-7f384d428b6f')\"\n",
              "              title=\"Convert this dataframe to an interactive table.\"\n",
              "              style=\"display:none;\">\n",
              "        \n",
              "  <svg xmlns=\"http://www.w3.org/2000/svg\" height=\"24px\"viewBox=\"0 0 24 24\"\n",
              "       width=\"24px\">\n",
              "    <path d=\"M0 0h24v24H0V0z\" fill=\"none\"/>\n",
              "    <path d=\"M18.56 5.44l.94 2.06.94-2.06 2.06-.94-2.06-.94-.94-2.06-.94 2.06-2.06.94zm-11 1L8.5 8.5l.94-2.06 2.06-.94-2.06-.94L8.5 2.5l-.94 2.06-2.06.94zm10 10l.94 2.06.94-2.06 2.06-.94-2.06-.94-.94-2.06-.94 2.06-2.06.94z\"/><path d=\"M17.41 7.96l-1.37-1.37c-.4-.4-.92-.59-1.43-.59-.52 0-1.04.2-1.43.59L10.3 9.45l-7.72 7.72c-.78.78-.78 2.05 0 2.83L4 21.41c.39.39.9.59 1.41.59.51 0 1.02-.2 1.41-.59l7.78-7.78 2.81-2.81c.8-.78.8-2.07 0-2.86zM5.41 20L4 18.59l7.72-7.72 1.47 1.35L5.41 20z\"/>\n",
              "  </svg>\n",
              "      </button>\n",
              "      \n",
              "  <style>\n",
              "    .colab-df-container {\n",
              "      display:flex;\n",
              "      flex-wrap:wrap;\n",
              "      gap: 12px;\n",
              "    }\n",
              "\n",
              "    .colab-df-convert {\n",
              "      background-color: #E8F0FE;\n",
              "      border: none;\n",
              "      border-radius: 50%;\n",
              "      cursor: pointer;\n",
              "      display: none;\n",
              "      fill: #1967D2;\n",
              "      height: 32px;\n",
              "      padding: 0 0 0 0;\n",
              "      width: 32px;\n",
              "    }\n",
              "\n",
              "    .colab-df-convert:hover {\n",
              "      background-color: #E2EBFA;\n",
              "      box-shadow: 0px 1px 2px rgba(60, 64, 67, 0.3), 0px 1px 3px 1px rgba(60, 64, 67, 0.15);\n",
              "      fill: #174EA6;\n",
              "    }\n",
              "\n",
              "    [theme=dark] .colab-df-convert {\n",
              "      background-color: #3B4455;\n",
              "      fill: #D2E3FC;\n",
              "    }\n",
              "\n",
              "    [theme=dark] .colab-df-convert:hover {\n",
              "      background-color: #434B5C;\n",
              "      box-shadow: 0px 1px 3px 1px rgba(0, 0, 0, 0.15);\n",
              "      filter: drop-shadow(0px 1px 2px rgba(0, 0, 0, 0.3));\n",
              "      fill: #FFFFFF;\n",
              "    }\n",
              "  </style>\n",
              "\n",
              "      <script>\n",
              "        const buttonEl =\n",
              "          document.querySelector('#df-66135fea-38e1-4317-8e04-7f384d428b6f button.colab-df-convert');\n",
              "        buttonEl.style.display =\n",
              "          google.colab.kernel.accessAllowed ? 'block' : 'none';\n",
              "\n",
              "        async function convertToInteractive(key) {\n",
              "          const element = document.querySelector('#df-66135fea-38e1-4317-8e04-7f384d428b6f');\n",
              "          const dataTable =\n",
              "            await google.colab.kernel.invokeFunction('convertToInteractive',\n",
              "                                                     [key], {});\n",
              "          if (!dataTable) return;\n",
              "\n",
              "          const docLinkHtml = 'Like what you see? Visit the ' +\n",
              "            '<a target=\"_blank\" href=https://colab.research.google.com/notebooks/data_table.ipynb>data table notebook</a>'\n",
              "            + ' to learn more about interactive tables.';\n",
              "          element.innerHTML = '';\n",
              "          dataTable['output_type'] = 'display_data';\n",
              "          await google.colab.output.renderOutput(dataTable, element);\n",
              "          const docLink = document.createElement('div');\n",
              "          docLink.innerHTML = docLinkHtml;\n",
              "          element.appendChild(docLink);\n",
              "        }\n",
              "      </script>\n",
              "    </div>\n",
              "  </div>\n",
              "  "
            ]
          },
          "metadata": {},
          "execution_count": 5
        }
      ],
      "source": [
        "# Leitura e ajuste dos dados\n",
        "df = pd.read_csv('Walmart.csv')\n",
        "\n",
        "df.head()"
      ]
    },
    {
      "cell_type": "code",
      "source": [
        "# Preview da qualidade dos dados\n",
        "df.info()"
      ],
      "metadata": {
        "id": "U1RloeQk__nd",
        "outputId": "3d9ec515-bc0e-43a4-ca98-339799e625f5",
        "colab": {
          "base_uri": "https://localhost:8080/"
        }
      },
      "execution_count": 6,
      "outputs": [
        {
          "output_type": "stream",
          "name": "stdout",
          "text": [
            "<class 'pandas.core.frame.DataFrame'>\n",
            "RangeIndex: 6435 entries, 0 to 6434\n",
            "Data columns (total 8 columns):\n",
            " #   Column        Non-Null Count  Dtype  \n",
            "---  ------        --------------  -----  \n",
            " 0   Store         6435 non-null   int64  \n",
            " 1   Date          6435 non-null   object \n",
            " 2   Weekly_Sales  6435 non-null   float64\n",
            " 3   Holiday_Flag  6435 non-null   int64  \n",
            " 4   Temperature   6435 non-null   float64\n",
            " 5   Fuel_Price    6435 non-null   float64\n",
            " 6   CPI           6435 non-null   float64\n",
            " 7   Unemployment  6435 non-null   float64\n",
            "dtypes: float64(5), int64(2), object(1)\n",
            "memory usage: 402.3+ KB\n"
          ]
        }
      ]
    },
    {
      "cell_type": "markdown",
      "source": [
        "\n",
        "\n",
        "Você precisa avaliar a performance global das vendas semanais das lojas do Wallmart. Porém, o processo de estração de dados é devagar e custoso, por isso não seria possível recolher todas as vendas semanais do ano para fazer uma estimativa com precisão de 100%. A única saída é realizar uma amostragem dos dados de uma loja e em cima disso calcular o intervalo de confiança das vendas para que os superioes tenham uma noção da média das vendas da loja.\n",
        "\n",
        "Pratique os conceitos de amostragem vistos na revisão dentro do dataset e ao final, calcule o intervalo de confiança para uma amostra de 25 e outra de 50 das vendas semanais da loja 20. O valor encontrado está dentro da média populacional da loja 20?"
      ],
      "metadata": {
        "id": "NoMDuIWW_3Xi"
      }
    },
    {
      "cell_type": "markdown",
      "source": [
        "#**Etapa 1**\n"
      ],
      "metadata": {
        "id": "tVs6Ryps9Hm4"
      }
    },
    {
      "cell_type": "markdown",
      "source": [
        "\n",
        "Nessa etapa iremos importar os dados e bibliotecas e verificar as vendas por loja\n",
        "\n",
        "\n",
        "1.  Importar as bibliotecas e os dados\n",
        "2.  Analisar os dados\n",
        "3.  Verifique as vendas semanais por loja\n",
        "4. Verifique se as vendas em período de feriado tem uma variação maior\n",
        "\n",
        "\n",
        "\n",
        "\n",
        "\n",
        "\n"
      ],
      "metadata": {
        "id": "kf4vkW1z9P2F"
      }
    },
    {
      "cell_type": "markdown",
      "source": [
        "#**Etapa 2**#"
      ],
      "metadata": {
        "id": "LnaBLejz9oBc"
      }
    },
    {
      "cell_type": "markdown",
      "source": [
        "Nessa etapa iremos verificar os tipos de amostragem\n",
        "\n",
        "\n",
        "\n",
        "1. Verifique as amostras (Simples, sistemática, estratificada e clusterizada)\n",
        "\n",
        "\n"
      ],
      "metadata": {
        "id": "p9FEP52r-Vcu"
      }
    },
    {
      "cell_type": "markdown",
      "source": [
        "#**Etapa 3 (PLUS)**#"
      ],
      "metadata": {
        "id": "RIQh018h_B_F"
      }
    },
    {
      "cell_type": "markdown",
      "source": [
        "Vamos analisar os dados das lojas conforme solicitado acima\n",
        "\n",
        "\n",
        "\n",
        "1. Verificando as 20 lojas conforme solicitado utilizando distribuição normal\n",
        "\n",
        "2. Filtrando o dataset e plotando seu histograma\n",
        "\n",
        "3. Realizando o teste com amostragem aleatória simples com 25 amostras\n",
        "4. Verificando a média da população\n",
        "5. Visualizando a distruibuição por dados com ele são\n",
        "\n",
        "6. Visualizando a distribuição dos dados aplicando o teorema do limite central\n",
        "\n",
        "7. Realizando o teste com uma amostragem aleatória simples com 50 amostras -> Teorema do Limite Central -> Teste Normal\n",
        "\n",
        "8. Verificando a média da população\n",
        "\n"
      ],
      "metadata": {
        "id": "6xUlrHnv_HBD"
      }
    },
    {
      "cell_type": "markdown",
      "metadata": {
        "id": "IcVa7VlmS6lH"
      },
      "source": [
        "# Etapa 01\n",
        "\n"
      ]
    },
    {
      "cell_type": "markdown",
      "metadata": {
        "id": "-0aJvykDhAes"
      },
      "source": [
        "## População"
      ]
    },
    {
      "cell_type": "code",
      "source": [
        "# Todos os dados possíveis\n",
        "df"
      ],
      "metadata": {
        "id": "J8a9lShMG4bH",
        "outputId": "e1580121-0abb-445e-fb6c-f33d655d9194",
        "colab": {
          "base_uri": "https://localhost:8080/",
          "height": 424
        }
      },
      "execution_count": 7,
      "outputs": [
        {
          "output_type": "execute_result",
          "data": {
            "text/plain": [
              "      Store        Date  Weekly_Sales  Holiday_Flag  Temperature  Fuel_Price  \\\n",
              "0         1  05-02-2010    1643690.90             0        42.31       2.572   \n",
              "1         1  12-02-2010    1641957.44             1        38.51       2.548   \n",
              "2         1  19-02-2010    1611968.17             0        39.93       2.514   \n",
              "3         1  26-02-2010    1409727.59             0        46.63       2.561   \n",
              "4         1  05-03-2010    1554806.68             0        46.50       2.625   \n",
              "...     ...         ...           ...           ...          ...         ...   \n",
              "6430     45  28-09-2012     713173.95             0        64.88       3.997   \n",
              "6431     45  05-10-2012     733455.07             0        64.89       3.985   \n",
              "6432     45  12-10-2012     734464.36             0        54.47       4.000   \n",
              "6433     45  19-10-2012     718125.53             0        56.47       3.969   \n",
              "6434     45  26-10-2012     760281.43             0        58.85       3.882   \n",
              "\n",
              "             CPI  Unemployment  \n",
              "0     211.096358         8.106  \n",
              "1     211.242170         8.106  \n",
              "2     211.289143         8.106  \n",
              "3     211.319643         8.106  \n",
              "4     211.350143         8.106  \n",
              "...          ...           ...  \n",
              "6430  192.013558         8.684  \n",
              "6431  192.170412         8.667  \n",
              "6432  192.327265         8.667  \n",
              "6433  192.330854         8.667  \n",
              "6434  192.308899         8.667  \n",
              "\n",
              "[6435 rows x 8 columns]"
            ],
            "text/html": [
              "\n",
              "  <div id=\"df-cf692007-9972-478f-98e0-13cf5e00403e\">\n",
              "    <div class=\"colab-df-container\">\n",
              "      <div>\n",
              "<style scoped>\n",
              "    .dataframe tbody tr th:only-of-type {\n",
              "        vertical-align: middle;\n",
              "    }\n",
              "\n",
              "    .dataframe tbody tr th {\n",
              "        vertical-align: top;\n",
              "    }\n",
              "\n",
              "    .dataframe thead th {\n",
              "        text-align: right;\n",
              "    }\n",
              "</style>\n",
              "<table border=\"1\" class=\"dataframe\">\n",
              "  <thead>\n",
              "    <tr style=\"text-align: right;\">\n",
              "      <th></th>\n",
              "      <th>Store</th>\n",
              "      <th>Date</th>\n",
              "      <th>Weekly_Sales</th>\n",
              "      <th>Holiday_Flag</th>\n",
              "      <th>Temperature</th>\n",
              "      <th>Fuel_Price</th>\n",
              "      <th>CPI</th>\n",
              "      <th>Unemployment</th>\n",
              "    </tr>\n",
              "  </thead>\n",
              "  <tbody>\n",
              "    <tr>\n",
              "      <th>0</th>\n",
              "      <td>1</td>\n",
              "      <td>05-02-2010</td>\n",
              "      <td>1643690.90</td>\n",
              "      <td>0</td>\n",
              "      <td>42.31</td>\n",
              "      <td>2.572</td>\n",
              "      <td>211.096358</td>\n",
              "      <td>8.106</td>\n",
              "    </tr>\n",
              "    <tr>\n",
              "      <th>1</th>\n",
              "      <td>1</td>\n",
              "      <td>12-02-2010</td>\n",
              "      <td>1641957.44</td>\n",
              "      <td>1</td>\n",
              "      <td>38.51</td>\n",
              "      <td>2.548</td>\n",
              "      <td>211.242170</td>\n",
              "      <td>8.106</td>\n",
              "    </tr>\n",
              "    <tr>\n",
              "      <th>2</th>\n",
              "      <td>1</td>\n",
              "      <td>19-02-2010</td>\n",
              "      <td>1611968.17</td>\n",
              "      <td>0</td>\n",
              "      <td>39.93</td>\n",
              "      <td>2.514</td>\n",
              "      <td>211.289143</td>\n",
              "      <td>8.106</td>\n",
              "    </tr>\n",
              "    <tr>\n",
              "      <th>3</th>\n",
              "      <td>1</td>\n",
              "      <td>26-02-2010</td>\n",
              "      <td>1409727.59</td>\n",
              "      <td>0</td>\n",
              "      <td>46.63</td>\n",
              "      <td>2.561</td>\n",
              "      <td>211.319643</td>\n",
              "      <td>8.106</td>\n",
              "    </tr>\n",
              "    <tr>\n",
              "      <th>4</th>\n",
              "      <td>1</td>\n",
              "      <td>05-03-2010</td>\n",
              "      <td>1554806.68</td>\n",
              "      <td>0</td>\n",
              "      <td>46.50</td>\n",
              "      <td>2.625</td>\n",
              "      <td>211.350143</td>\n",
              "      <td>8.106</td>\n",
              "    </tr>\n",
              "    <tr>\n",
              "      <th>...</th>\n",
              "      <td>...</td>\n",
              "      <td>...</td>\n",
              "      <td>...</td>\n",
              "      <td>...</td>\n",
              "      <td>...</td>\n",
              "      <td>...</td>\n",
              "      <td>...</td>\n",
              "      <td>...</td>\n",
              "    </tr>\n",
              "    <tr>\n",
              "      <th>6430</th>\n",
              "      <td>45</td>\n",
              "      <td>28-09-2012</td>\n",
              "      <td>713173.95</td>\n",
              "      <td>0</td>\n",
              "      <td>64.88</td>\n",
              "      <td>3.997</td>\n",
              "      <td>192.013558</td>\n",
              "      <td>8.684</td>\n",
              "    </tr>\n",
              "    <tr>\n",
              "      <th>6431</th>\n",
              "      <td>45</td>\n",
              "      <td>05-10-2012</td>\n",
              "      <td>733455.07</td>\n",
              "      <td>0</td>\n",
              "      <td>64.89</td>\n",
              "      <td>3.985</td>\n",
              "      <td>192.170412</td>\n",
              "      <td>8.667</td>\n",
              "    </tr>\n",
              "    <tr>\n",
              "      <th>6432</th>\n",
              "      <td>45</td>\n",
              "      <td>12-10-2012</td>\n",
              "      <td>734464.36</td>\n",
              "      <td>0</td>\n",
              "      <td>54.47</td>\n",
              "      <td>4.000</td>\n",
              "      <td>192.327265</td>\n",
              "      <td>8.667</td>\n",
              "    </tr>\n",
              "    <tr>\n",
              "      <th>6433</th>\n",
              "      <td>45</td>\n",
              "      <td>19-10-2012</td>\n",
              "      <td>718125.53</td>\n",
              "      <td>0</td>\n",
              "      <td>56.47</td>\n",
              "      <td>3.969</td>\n",
              "      <td>192.330854</td>\n",
              "      <td>8.667</td>\n",
              "    </tr>\n",
              "    <tr>\n",
              "      <th>6434</th>\n",
              "      <td>45</td>\n",
              "      <td>26-10-2012</td>\n",
              "      <td>760281.43</td>\n",
              "      <td>0</td>\n",
              "      <td>58.85</td>\n",
              "      <td>3.882</td>\n",
              "      <td>192.308899</td>\n",
              "      <td>8.667</td>\n",
              "    </tr>\n",
              "  </tbody>\n",
              "</table>\n",
              "<p>6435 rows × 8 columns</p>\n",
              "</div>\n",
              "      <button class=\"colab-df-convert\" onclick=\"convertToInteractive('df-cf692007-9972-478f-98e0-13cf5e00403e')\"\n",
              "              title=\"Convert this dataframe to an interactive table.\"\n",
              "              style=\"display:none;\">\n",
              "        \n",
              "  <svg xmlns=\"http://www.w3.org/2000/svg\" height=\"24px\"viewBox=\"0 0 24 24\"\n",
              "       width=\"24px\">\n",
              "    <path d=\"M0 0h24v24H0V0z\" fill=\"none\"/>\n",
              "    <path d=\"M18.56 5.44l.94 2.06.94-2.06 2.06-.94-2.06-.94-.94-2.06-.94 2.06-2.06.94zm-11 1L8.5 8.5l.94-2.06 2.06-.94-2.06-.94L8.5 2.5l-.94 2.06-2.06.94zm10 10l.94 2.06.94-2.06 2.06-.94-2.06-.94-.94-2.06-.94 2.06-2.06.94z\"/><path d=\"M17.41 7.96l-1.37-1.37c-.4-.4-.92-.59-1.43-.59-.52 0-1.04.2-1.43.59L10.3 9.45l-7.72 7.72c-.78.78-.78 2.05 0 2.83L4 21.41c.39.39.9.59 1.41.59.51 0 1.02-.2 1.41-.59l7.78-7.78 2.81-2.81c.8-.78.8-2.07 0-2.86zM5.41 20L4 18.59l7.72-7.72 1.47 1.35L5.41 20z\"/>\n",
              "  </svg>\n",
              "      </button>\n",
              "      \n",
              "  <style>\n",
              "    .colab-df-container {\n",
              "      display:flex;\n",
              "      flex-wrap:wrap;\n",
              "      gap: 12px;\n",
              "    }\n",
              "\n",
              "    .colab-df-convert {\n",
              "      background-color: #E8F0FE;\n",
              "      border: none;\n",
              "      border-radius: 50%;\n",
              "      cursor: pointer;\n",
              "      display: none;\n",
              "      fill: #1967D2;\n",
              "      height: 32px;\n",
              "      padding: 0 0 0 0;\n",
              "      width: 32px;\n",
              "    }\n",
              "\n",
              "    .colab-df-convert:hover {\n",
              "      background-color: #E2EBFA;\n",
              "      box-shadow: 0px 1px 2px rgba(60, 64, 67, 0.3), 0px 1px 3px 1px rgba(60, 64, 67, 0.15);\n",
              "      fill: #174EA6;\n",
              "    }\n",
              "\n",
              "    [theme=dark] .colab-df-convert {\n",
              "      background-color: #3B4455;\n",
              "      fill: #D2E3FC;\n",
              "    }\n",
              "\n",
              "    [theme=dark] .colab-df-convert:hover {\n",
              "      background-color: #434B5C;\n",
              "      box-shadow: 0px 1px 3px 1px rgba(0, 0, 0, 0.15);\n",
              "      filter: drop-shadow(0px 1px 2px rgba(0, 0, 0, 0.3));\n",
              "      fill: #FFFFFF;\n",
              "    }\n",
              "  </style>\n",
              "\n",
              "      <script>\n",
              "        const buttonEl =\n",
              "          document.querySelector('#df-cf692007-9972-478f-98e0-13cf5e00403e button.colab-df-convert');\n",
              "        buttonEl.style.display =\n",
              "          google.colab.kernel.accessAllowed ? 'block' : 'none';\n",
              "\n",
              "        async function convertToInteractive(key) {\n",
              "          const element = document.querySelector('#df-cf692007-9972-478f-98e0-13cf5e00403e');\n",
              "          const dataTable =\n",
              "            await google.colab.kernel.invokeFunction('convertToInteractive',\n",
              "                                                     [key], {});\n",
              "          if (!dataTable) return;\n",
              "\n",
              "          const docLinkHtml = 'Like what you see? Visit the ' +\n",
              "            '<a target=\"_blank\" href=https://colab.research.google.com/notebooks/data_table.ipynb>data table notebook</a>'\n",
              "            + ' to learn more about interactive tables.';\n",
              "          element.innerHTML = '';\n",
              "          dataTable['output_type'] = 'display_data';\n",
              "          await google.colab.output.renderOutput(dataTable, element);\n",
              "          const docLink = document.createElement('div');\n",
              "          docLink.innerHTML = docLinkHtml;\n",
              "          element.appendChild(docLink);\n",
              "        }\n",
              "      </script>\n",
              "    </div>\n",
              "  </div>\n",
              "  "
            ]
          },
          "metadata": {},
          "execution_count": 7
        }
      ]
    },
    {
      "cell_type": "code",
      "source": [
        "# Boxplot das vendas semanais por loja\n",
        "fig, ax = plt.subplots(figsize=(20, 8))\n",
        "sns.boxplot(data=df,x='Store', y='Weekly_Sales')"
      ],
      "metadata": {
        "id": "6AQsZYisOjqK",
        "outputId": "5e255e2b-fb21-495a-9f78-75e1410ee431",
        "colab": {
          "base_uri": "https://localhost:8080/",
          "height": 431
        }
      },
      "execution_count": 8,
      "outputs": [
        {
          "output_type": "execute_result",
          "data": {
            "text/plain": [
              "<matplotlib.axes._subplots.AxesSubplot at 0x7f4789df40d0>"
            ]
          },
          "metadata": {},
          "execution_count": 8
        },
        {
          "output_type": "display_data",
          "data": {
            "text/plain": [
              "<Figure size 1440x576 with 1 Axes>"
            ],
            "image/png": "[encoded data removed]"
          },
          "metadata": {
            "needs_background": "light"
          }
        }
      ]
    },
    {
      "cell_type": "code",
      "source": [
        "# Distribuição das vendas semanais da loja 20\n",
        "store20 = df[df['Store']==20]\n",
        "\n",
        "sns.boxplot(data=store20, y='Weekly_Sales')"
      ],
      "metadata": {
        "id": "0pRxR78xBYVD",
        "outputId": "4a2fbe6b-188a-48b6-dcd8-bb33bde51cc9",
        "colab": {
          "base_uri": "https://localhost:8080/",
          "height": 280
        }
      },
      "execution_count": 9,
      "outputs": [
        {
          "output_type": "execute_result",
          "data": {
            "text/plain": [
              "<matplotlib.axes._subplots.AxesSubplot at 0x7f4789966410>"
            ]
          },
          "metadata": {},
          "execution_count": 9
        },
        {
          "output_type": "display_data",
          "data": {
            "text/plain": [
              "<Figure size 432x288 with 1 Axes>"
            ],
            "image/png": "[encoded data removed]"
          },
          "metadata": {
            "needs_background": "light"
          }
        }
      ]
    },
    {
      "cell_type": "code",
      "source": [
        "# Verificando se as vendas em período de feriado tem uma variação maior\n",
        "sns.boxplot(data=df,x='Holiday_Flag', y='Weekly_Sales')"
      ],
      "metadata": {
        "id": "j6-VLUjAOn9z",
        "outputId": "4fd232ef-be3d-47e8-913d-6f4ec2962ff9",
        "colab": {
          "base_uri": "https://localhost:8080/",
          "height": 308
        }
      },
      "execution_count": 10,
      "outputs": [
        {
          "output_type": "execute_result",
          "data": {
            "text/plain": [
              "<matplotlib.axes._subplots.AxesSubplot at 0x7f4789387110>"
            ]
          },
          "metadata": {},
          "execution_count": 10
        },
        {
          "output_type": "display_data",
          "data": {
            "text/plain": [
              "<Figure size 432x288 with 1 Axes>"
            ],
            "image/png": "[encoded data removed]"
          },
          "metadata": {
            "needs_background": "light"
          }
        }
      ]
    },
    {
      "cell_type": "code",
      "source": [
        "sns.histplot(data=df,x='Weekly_Sales',hue = 'Holiday_Flag',kde=True)"
      ],
      "metadata": {
        "id": "9UOONUasdN-l",
        "outputId": "73ea7818-f358-4877-bfaf-19752cfbf7d4",
        "colab": {
          "base_uri": "https://localhost:8080/",
          "height": 297
        }
      },
      "execution_count": 11,
      "outputs": [
        {
          "output_type": "execute_result",
          "data": {
            "text/plain": [
              "<matplotlib.axes._subplots.AxesSubplot at 0x7f478931ebd0>"
            ]
          },
          "metadata": {},
          "execution_count": 11
        },
        {
          "output_type": "display_data",
          "data": {
            "text/plain": [
              "<Figure size 432x288 with 1 Axes>"
            ],
            "image/png": "[encoded data removed]"
          },
          "metadata": {
            "needs_background": "light"
          }
        }
      ]
    },
    {
      "cell_type": "markdown",
      "source": [
        "# Etapa 02"
      ],
      "metadata": {
        "id": "tyYTSR_bowS8"
      }
    },
    {
      "cell_type": "markdown",
      "metadata": {
        "id": "bBkfbCMPg6-Q"
      },
      "source": [
        "## Amostragem Simples "
      ]
    },
    {
      "cell_type": "code",
      "source": [
        "# Amostrando simples usando o random_state\n",
        "sample_simp = df.sample(10,random_state= 0)\n",
        "sample_simp"
      ],
      "metadata": {
        "id": "5UkmnHcYG-rf",
        "outputId": "8996e802-665d-4ebe-864f-6073bc536027",
        "colab": {
          "base_uri": "https://localhost:8080/",
          "height": 363
        }
      },
      "execution_count": 19,
      "outputs": [
        {
          "output_type": "execute_result",
          "data": {
            "text/plain": [
              "      Store        Date  Weekly_Sales  Holiday_Flag  Temperature  Fuel_Price  \\\n",
              "3949     28  14-10-2011    1220984.94             0        67.31       3.805   \n",
              "4555     32  08-06-2012    1246322.44             0        71.14       3.741   \n",
              "2235     16  28-10-2011     505918.21             0        41.97       3.550   \n",
              "5204     37  04-03-2011     527572.25             0        64.55       3.288   \n",
              "3524     25  11-11-2011     719235.07             0        44.81       3.530   \n",
              "3036     22  24-09-2010     902779.25             0        65.14       2.718   \n",
              "2190     16  17-12-2010     648652.01             0        26.01       2.778   \n",
              "4418     31  20-07-2012    1392395.20             0        84.25       3.311   \n",
              "1095      8  25-11-2011    1235163.86             1        49.61       3.236   \n",
              "5193     37  17-12-2010     534285.21             0        56.73       2.869   \n",
              "\n",
              "             CPI  Unemployment  \n",
              "3949  129.770645        12.890  \n",
              "4555  197.655186         8.090  \n",
              "2235  195.331898         6.232  \n",
              "5204  212.576205         8.395  \n",
              "3524  210.981020         7.082  \n",
              "3036  136.631782         8.433  \n",
              "2190  191.030338         6.986  \n",
              "4418  221.570112         6.565  \n",
              "1095  221.949157         6.123  \n",
              "5193  210.178722         8.476  "
            ],
            "text/html": [
              "\n",
              "  <div id=\"df-63819bc6-3f12-4c91-b191-6fdc8abaee81\">\n",
              "    <div class=\"colab-df-container\">\n",
              "      <div>\n",
              "<style scoped>\n",
              "    .dataframe tbody tr th:only-of-type {\n",
              "        vertical-align: middle;\n",
              "    }\n",
              "\n",
              "    .dataframe tbody tr th {\n",
              "        vertical-align: top;\n",
              "    }\n",
              "\n",
              "    .dataframe thead th {\n",
              "        text-align: right;\n",
              "    }\n",
              "</style>\n",
              "<table border=\"1\" class=\"dataframe\">\n",
              "  <thead>\n",
              "    <tr style=\"text-align: right;\">\n",
              "      <th></th>\n",
              "      <th>Store</th>\n",
              "      <th>Date</th>\n",
              "      <th>Weekly_Sales</th>\n",
              "      <th>Holiday_Flag</th>\n",
              "      <th>Temperature</th>\n",
              "      <th>Fuel_Price</th>\n",
              "      <th>CPI</th>\n",
              "      <th>Unemployment</th>\n",
              "    </tr>\n",
              "  </thead>\n",
              "  <tbody>\n",
              "    <tr>\n",
              "      <th>3949</th>\n",
              "      <td>28</td>\n",
              "      <td>14-10-2011</td>\n",
              "      <td>1220984.94</td>\n",
              "      <td>0</td>\n",
              "      <td>67.31</td>\n",
              "      <td>3.805</td>\n",
              "      <td>129.770645</td>\n",
              "      <td>12.890</td>\n",
              "    </tr>\n",
              "    <tr>\n",
              "      <th>4555</th>\n",
              "      <td>32</td>\n",
              "      <td>08-06-2012</td>\n",
              "      <td>1246322.44</td>\n",
              "      <td>0</td>\n",
              "      <td>71.14</td>\n",
              "      <td>3.741</td>\n",
              "      <td>197.655186</td>\n",
              "      <td>8.090</td>\n",
              "    </tr>\n",
              "    <tr>\n",
              "      <th>2235</th>\n",
              "      <td>16</td>\n",
              "      <td>28-10-2011</td>\n",
              "      <td>505918.21</td>\n",
              "      <td>0</td>\n",
              "      <td>41.97</td>\n",
              "      <td>3.550</td>\n",
              "      <td>195.331898</td>\n",
              "      <td>6.232</td>\n",
              "    </tr>\n",
              "    <tr>\n",
              "      <th>5204</th>\n",
              "      <td>37</td>\n",
              "      <td>04-03-2011</td>\n",
              "      <td>527572.25</td>\n",
              "      <td>0</td>\n",
              "      <td>64.55</td>\n",
              "      <td>3.288</td>\n",
              "      <td>212.576205</td>\n",
              "      <td>8.395</td>\n",
              "    </tr>\n",
              "    <tr>\n",
              "      <th>3524</th>\n",
              "      <td>25</td>\n",
              "      <td>11-11-2011</td>\n",
              "      <td>719235.07</td>\n",
              "      <td>0</td>\n",
              "      <td>44.81</td>\n",
              "      <td>3.530</td>\n",
              "      <td>210.981020</td>\n",
              "      <td>7.082</td>\n",
              "    </tr>\n",
              "    <tr>\n",
              "      <th>3036</th>\n",
              "      <td>22</td>\n",
              "      <td>24-09-2010</td>\n",
              "      <td>902779.25</td>\n",
              "      <td>0</td>\n",
              "      <td>65.14</td>\n",
              "      <td>2.718</td>\n",
              "      <td>136.631782</td>\n",
              "      <td>8.433</td>\n",
              "    </tr>\n",
              "    <tr>\n",
              "      <th>2190</th>\n",
              "      <td>16</td>\n",
              "      <td>17-12-2010</td>\n",
              "      <td>648652.01</td>\n",
              "      <td>0</td>\n",
              "      <td>26.01</td>\n",
              "      <td>2.778</td>\n",
              "      <td>191.030338</td>\n",
              "      <td>6.986</td>\n",
              "    </tr>\n",
              "    <tr>\n",
              "      <th>4418</th>\n",
              "      <td>31</td>\n",
              "      <td>20-07-2012</td>\n",
              "      <td>1392395.20</td>\n",
              "      <td>0</td>\n",
              "      <td>84.25</td>\n",
              "      <td>3.311</td>\n",
              "      <td>221.570112</td>\n",
              "      <td>6.565</td>\n",
              "    </tr>\n",
              "    <tr>\n",
              "      <th>1095</th>\n",
              "      <td>8</td>\n",
              "      <td>25-11-2011</td>\n",
              "      <td>1235163.86</td>\n",
              "      <td>1</td>\n",
              "      <td>49.61</td>\n",
              "      <td>3.236</td>\n",
              "      <td>221.949157</td>\n",
              "      <td>6.123</td>\n",
              "    </tr>\n",
              "    <tr>\n",
              "      <th>5193</th>\n",
              "      <td>37</td>\n",
              "      <td>17-12-2010</td>\n",
              "      <td>534285.21</td>\n",
              "      <td>0</td>\n",
              "      <td>56.73</td>\n",
              "      <td>2.869</td>\n",
              "      <td>210.178722</td>\n",
              "      <td>8.476</td>\n",
              "    </tr>\n",
              "  </tbody>\n",
              "</table>\n",
              "</div>\n",
              "      <button class=\"colab-df-convert\" onclick=\"convertToInteractive('df-63819bc6-3f12-4c91-b191-6fdc8abaee81')\"\n",
              "              title=\"Convert this dataframe to an interactive table.\"\n",
              "              style=\"display:none;\">\n",
              "        \n",
              "  <svg xmlns=\"http://www.w3.org/2000/svg\" height=\"24px\"viewBox=\"0 0 24 24\"\n",
              "       width=\"24px\">\n",
              "    <path d=\"M0 0h24v24H0V0z\" fill=\"none\"/>\n",
              "    <path d=\"M18.56 5.44l.94 2.06.94-2.06 2.06-.94-2.06-.94-.94-2.06-.94 2.06-2.06.94zm-11 1L8.5 8.5l.94-2.06 2.06-.94-2.06-.94L8.5 2.5l-.94 2.06-2.06.94zm10 10l.94 2.06.94-2.06 2.06-.94-2.06-.94-.94-2.06-.94 2.06-2.06.94z\"/><path d=\"M17.41 7.96l-1.37-1.37c-.4-.4-.92-.59-1.43-.59-.52 0-1.04.2-1.43.59L10.3 9.45l-7.72 7.72c-.78.78-.78 2.05 0 2.83L4 21.41c.39.39.9.59 1.41.59.51 0 1.02-.2 1.41-.59l7.78-7.78 2.81-2.81c.8-.78.8-2.07 0-2.86zM5.41 20L4 18.59l7.72-7.72 1.47 1.35L5.41 20z\"/>\n",
              "  </svg>\n",
              "      </button>\n",
              "      \n",
              "  <style>\n",
              "    .colab-df-container {\n",
              "      display:flex;\n",
              "      flex-wrap:wrap;\n",
              "      gap: 12px;\n",
              "    }\n",
              "\n",
              "    .colab-df-convert {\n",
              "      background-color: #E8F0FE;\n",
              "      border: none;\n",
              "      border-radius: 50%;\n",
              "      cursor: pointer;\n",
              "      display: none;\n",
              "      fill: #1967D2;\n",
              "      height: 32px;\n",
              "      padding: 0 0 0 0;\n",
              "      width: 32px;\n",
              "    }\n",
              "\n",
              "    .colab-df-convert:hover {\n",
              "      background-color: #E2EBFA;\n",
              "      box-shadow: 0px 1px 2px rgba(60, 64, 67, 0.3), 0px 1px 3px 1px rgba(60, 64, 67, 0.15);\n",
              "      fill: #174EA6;\n",
              "    }\n",
              "\n",
              "    [theme=dark] .colab-df-convert {\n",
              "      background-color: #3B4455;\n",
              "      fill: #D2E3FC;\n",
              "    }\n",
              "\n",
              "    [theme=dark] .colab-df-convert:hover {\n",
              "      background-color: #434B5C;\n",
              "      box-shadow: 0px 1px 3px 1px rgba(0, 0, 0, 0.15);\n",
              "      filter: drop-shadow(0px 1px 2px rgba(0, 0, 0, 0.3));\n",
              "      fill: #FFFFFF;\n",
              "    }\n",
              "  </style>\n",
              "\n",
              "      <script>\n",
              "        const buttonEl =\n",
              "          document.querySelector('#df-63819bc6-3f12-4c91-b191-6fdc8abaee81 button.colab-df-convert');\n",
              "        buttonEl.style.display =\n",
              "          google.colab.kernel.accessAllowed ? 'block' : 'none';\n",
              "\n",
              "        async function convertToInteractive(key) {\n",
              "          const element = document.querySelector('#df-63819bc6-3f12-4c91-b191-6fdc8abaee81');\n",
              "          const dataTable =\n",
              "            await google.colab.kernel.invokeFunction('convertToInteractive',\n",
              "                                                     [key], {});\n",
              "          if (!dataTable) return;\n",
              "\n",
              "          const docLinkHtml = 'Like what you see? Visit the ' +\n",
              "            '<a target=\"_blank\" href=https://colab.research.google.com/notebooks/data_table.ipynb>data table notebook</a>'\n",
              "            + ' to learn more about interactive tables.';\n",
              "          element.innerHTML = '';\n",
              "          dataTable['output_type'] = 'display_data';\n",
              "          await google.colab.output.renderOutput(dataTable, element);\n",
              "          const docLink = document.createElement('div');\n",
              "          docLink.innerHTML = docLinkHtml;\n",
              "          element.appendChild(docLink);\n",
              "        }\n",
              "      </script>\n",
              "    </div>\n",
              "  </div>\n",
              "  "
            ]
          },
          "metadata": {},
          "execution_count": 19
        }
      ]
    },
    {
      "cell_type": "code",
      "source": [
        "# Amostrando simples usando o seed\n",
        "np.random.seed(0)\n",
        "df.sample(10)"
      ],
      "metadata": {
        "id": "KR6zC54WHIPt",
        "outputId": "55804960-919d-4328-d596-036b46b6563b",
        "colab": {
          "base_uri": "https://localhost:8080/",
          "height": 363
        }
      },
      "execution_count": 20,
      "outputs": [
        {
          "output_type": "execute_result",
          "data": {
            "text/plain": [
              "      Store        Date  Weekly_Sales  Holiday_Flag  Temperature  Fuel_Price  \\\n",
              "3949     28  14-10-2011    1220984.94             0        67.31       3.805   \n",
              "4555     32  08-06-2012    1246322.44             0        71.14       3.741   \n",
              "2235     16  28-10-2011     505918.21             0        41.97       3.550   \n",
              "5204     37  04-03-2011     527572.25             0        64.55       3.288   \n",
              "3524     25  11-11-2011     719235.07             0        44.81       3.530   \n",
              "3036     22  24-09-2010     902779.25             0        65.14       2.718   \n",
              "2190     16  17-12-2010     648652.01             0        26.01       2.778   \n",
              "4418     31  20-07-2012    1392395.20             0        84.25       3.311   \n",
              "1095      8  25-11-2011    1235163.86             1        49.61       3.236   \n",
              "5193     37  17-12-2010     534285.21             0        56.73       2.869   \n",
              "\n",
              "             CPI  Unemployment  \n",
              "3949  129.770645        12.890  \n",
              "4555  197.655186         8.090  \n",
              "2235  195.331898         6.232  \n",
              "5204  212.576205         8.395  \n",
              "3524  210.981020         7.082  \n",
              "3036  136.631782         8.433  \n",
              "2190  191.030338         6.986  \n",
              "4418  221.570112         6.565  \n",
              "1095  221.949157         6.123  \n",
              "5193  210.178722         8.476  "
            ],
            "text/html": [
              "\n",
              "  <div id=\"df-3c37e3a9-45d9-4529-bd29-3d2bf1d3f508\">\n",
              "    <div class=\"colab-df-container\">\n",
              "      <div>\n",
              "<style scoped>\n",
              "    .dataframe tbody tr th:only-of-type {\n",
              "        vertical-align: middle;\n",
              "    }\n",
              "\n",
              "    .dataframe tbody tr th {\n",
              "        vertical-align: top;\n",
              "    }\n",
              "\n",
              "    .dataframe thead th {\n",
              "        text-align: right;\n",
              "    }\n",
              "</style>\n",
              "<table border=\"1\" class=\"dataframe\">\n",
              "  <thead>\n",
              "    <tr style=\"text-align: right;\">\n",
              "      <th></th>\n",
              "      <th>Store</th>\n",
              "      <th>Date</th>\n",
              "      <th>Weekly_Sales</th>\n",
              "      <th>Holiday_Flag</th>\n",
              "      <th>Temperature</th>\n",
              "      <th>Fuel_Price</th>\n",
              "      <th>CPI</th>\n",
              "      <th>Unemployment</th>\n",
              "    </tr>\n",
              "  </thead>\n",
              "  <tbody>\n",
              "    <tr>\n",
              "      <th>3949</th>\n",
              "      <td>28</td>\n",
              "      <td>14-10-2011</td>\n",
              "      <td>1220984.94</td>\n",
              "      <td>0</td>\n",
              "      <td>67.31</td>\n",
              "      <td>3.805</td>\n",
              "      <td>129.770645</td>\n",
              "      <td>12.890</td>\n",
              "    </tr>\n",
              "    <tr>\n",
              "      <th>4555</th>\n",
              "      <td>32</td>\n",
              "      <td>08-06-2012</td>\n",
              "      <td>1246322.44</td>\n",
              "      <td>0</td>\n",
              "      <td>71.14</td>\n",
              "      <td>3.741</td>\n",
              "      <td>197.655186</td>\n",
              "      <td>8.090</td>\n",
              "    </tr>\n",
              "    <tr>\n",
              "      <th>2235</th>\n",
              "      <td>16</td>\n",
              "      <td>28-10-2011</td>\n",
              "      <td>505918.21</td>\n",
              "      <td>0</td>\n",
              "      <td>41.97</td>\n",
              "      <td>3.550</td>\n",
              "      <td>195.331898</td>\n",
              "      <td>6.232</td>\n",
              "    </tr>\n",
              "    <tr>\n",
              "      <th>5204</th>\n",
              "      <td>37</td>\n",
              "      <td>04-03-2011</td>\n",
              "      <td>527572.25</td>\n",
              "      <td>0</td>\n",
              "      <td>64.55</td>\n",
              "      <td>3.288</td>\n",
              "      <td>212.576205</td>\n",
              "      <td>8.395</td>\n",
              "    </tr>\n",
              "    <tr>\n",
              "      <th>3524</th>\n",
              "      <td>25</td>\n",
              "      <td>11-11-2011</td>\n",
              "      <td>719235.07</td>\n",
              "      <td>0</td>\n",
              "      <td>44.81</td>\n",
              "      <td>3.530</td>\n",
              "      <td>210.981020</td>\n",
              "      <td>7.082</td>\n",
              "    </tr>\n",
              "    <tr>\n",
              "      <th>3036</th>\n",
              "      <td>22</td>\n",
              "      <td>24-09-2010</td>\n",
              "      <td>902779.25</td>\n",
              "      <td>0</td>\n",
              "      <td>65.14</td>\n",
              "      <td>2.718</td>\n",
              "      <td>136.631782</td>\n",
              "      <td>8.433</td>\n",
              "    </tr>\n",
              "    <tr>\n",
              "      <th>2190</th>\n",
              "      <td>16</td>\n",
              "      <td>17-12-2010</td>\n",
              "      <td>648652.01</td>\n",
              "      <td>0</td>\n",
              "      <td>26.01</td>\n",
              "      <td>2.778</td>\n",
              "      <td>191.030338</td>\n",
              "      <td>6.986</td>\n",
              "    </tr>\n",
              "    <tr>\n",
              "      <th>4418</th>\n",
              "      <td>31</td>\n",
              "      <td>20-07-2012</td>\n",
              "      <td>1392395.20</td>\n",
              "      <td>0</td>\n",
              "      <td>84.25</td>\n",
              "      <td>3.311</td>\n",
              "      <td>221.570112</td>\n",
              "      <td>6.565</td>\n",
              "    </tr>\n",
              "    <tr>\n",
              "      <th>1095</th>\n",
              "      <td>8</td>\n",
              "      <td>25-11-2011</td>\n",
              "      <td>1235163.86</td>\n",
              "      <td>1</td>\n",
              "      <td>49.61</td>\n",
              "      <td>3.236</td>\n",
              "      <td>221.949157</td>\n",
              "      <td>6.123</td>\n",
              "    </tr>\n",
              "    <tr>\n",
              "      <th>5193</th>\n",
              "      <td>37</td>\n",
              "      <td>17-12-2010</td>\n",
              "      <td>534285.21</td>\n",
              "      <td>0</td>\n",
              "      <td>56.73</td>\n",
              "      <td>2.869</td>\n",
              "      <td>210.178722</td>\n",
              "      <td>8.476</td>\n",
              "    </tr>\n",
              "  </tbody>\n",
              "</table>\n",
              "</div>\n",
              "      <button class=\"colab-df-convert\" onclick=\"convertToInteractive('df-3c37e3a9-45d9-4529-bd29-3d2bf1d3f508')\"\n",
              "              title=\"Convert this dataframe to an interactive table.\"\n",
              "              style=\"display:none;\">\n",
              "        \n",
              "  <svg xmlns=\"http://www.w3.org/2000/svg\" height=\"24px\"viewBox=\"0 0 24 24\"\n",
              "       width=\"24px\">\n",
              "    <path d=\"M0 0h24v24H0V0z\" fill=\"none\"/>\n",
              "    <path d=\"M18.56 5.44l.94 2.06.94-2.06 2.06-.94-2.06-.94-.94-2.06-.94 2.06-2.06.94zm-11 1L8.5 8.5l.94-2.06 2.06-.94-2.06-.94L8.5 2.5l-.94 2.06-2.06.94zm10 10l.94 2.06.94-2.06 2.06-.94-2.06-.94-.94-2.06-.94 2.06-2.06.94z\"/><path d=\"M17.41 7.96l-1.37-1.37c-.4-.4-.92-.59-1.43-.59-.52 0-1.04.2-1.43.59L10.3 9.45l-7.72 7.72c-.78.78-.78 2.05 0 2.83L4 21.41c.39.39.9.59 1.41.59.51 0 1.02-.2 1.41-.59l7.78-7.78 2.81-2.81c.8-.78.8-2.07 0-2.86zM5.41 20L4 18.59l7.72-7.72 1.47 1.35L5.41 20z\"/>\n",
              "  </svg>\n",
              "      </button>\n",
              "      \n",
              "  <style>\n",
              "    .colab-df-container {\n",
              "      display:flex;\n",
              "      flex-wrap:wrap;\n",
              "      gap: 12px;\n",
              "    }\n",
              "\n",
              "    .colab-df-convert {\n",
              "      background-color: #E8F0FE;\n",
              "      border: none;\n",
              "      border-radius: 50%;\n",
              "      cursor: pointer;\n",
              "      display: none;\n",
              "      fill: #1967D2;\n",
              "      height: 32px;\n",
              "      padding: 0 0 0 0;\n",
              "      width: 32px;\n",
              "    }\n",
              "\n",
              "    .colab-df-convert:hover {\n",
              "      background-color: #E2EBFA;\n",
              "      box-shadow: 0px 1px 2px rgba(60, 64, 67, 0.3), 0px 1px 3px 1px rgba(60, 64, 67, 0.15);\n",
              "      fill: #174EA6;\n",
              "    }\n",
              "\n",
              "    [theme=dark] .colab-df-convert {\n",
              "      background-color: #3B4455;\n",
              "      fill: #D2E3FC;\n",
              "    }\n",
              "\n",
              "    [theme=dark] .colab-df-convert:hover {\n",
              "      background-color: #434B5C;\n",
              "      box-shadow: 0px 1px 3px 1px rgba(0, 0, 0, 0.15);\n",
              "      filter: drop-shadow(0px 1px 2px rgba(0, 0, 0, 0.3));\n",
              "      fill: #FFFFFF;\n",
              "    }\n",
              "  </style>\n",
              "\n",
              "      <script>\n",
              "        const buttonEl =\n",
              "          document.querySelector('#df-3c37e3a9-45d9-4529-bd29-3d2bf1d3f508 button.colab-df-convert');\n",
              "        buttonEl.style.display =\n",
              "          google.colab.kernel.accessAllowed ? 'block' : 'none';\n",
              "\n",
              "        async function convertToInteractive(key) {\n",
              "          const element = document.querySelector('#df-3c37e3a9-45d9-4529-bd29-3d2bf1d3f508');\n",
              "          const dataTable =\n",
              "            await google.colab.kernel.invokeFunction('convertToInteractive',\n",
              "                                                     [key], {});\n",
              "          if (!dataTable) return;\n",
              "\n",
              "          const docLinkHtml = 'Like what you see? Visit the ' +\n",
              "            '<a target=\"_blank\" href=https://colab.research.google.com/notebooks/data_table.ipynb>data table notebook</a>'\n",
              "            + ' to learn more about interactive tables.';\n",
              "          element.innerHTML = '';\n",
              "          dataTable['output_type'] = 'display_data';\n",
              "          await google.colab.output.renderOutput(dataTable, element);\n",
              "          const docLink = document.createElement('div');\n",
              "          docLink.innerHTML = docLinkHtml;\n",
              "          element.appendChild(docLink);\n",
              "        }\n",
              "      </script>\n",
              "    </div>\n",
              "  </div>\n",
              "  "
            ]
          },
          "metadata": {},
          "execution_count": 20
        }
      ]
    },
    {
      "cell_type": "code",
      "source": [
        "# Quantidade de classes distintas na amostra\n",
        "df['Store'].sample(15, random_state=123).value_counts(normalize=True)"
      ],
      "metadata": {
        "id": "_q1xOmmSHq5n",
        "outputId": "0683e83b-df46-444c-e4af-eabdf2516aef",
        "colab": {
          "base_uri": "https://localhost:8080/"
        }
      },
      "execution_count": 24,
      "outputs": [
        {
          "output_type": "execute_result",
          "data": {
            "text/plain": [
              "42    0.266667\n",
              "19    0.133333\n",
              "1     0.133333\n",
              "44    0.066667\n",
              "4     0.066667\n",
              "30    0.066667\n",
              "36    0.066667\n",
              "6     0.066667\n",
              "27    0.066667\n",
              "37    0.066667\n",
              "Name: Store, dtype: float64"
            ]
          },
          "metadata": {},
          "execution_count": 24
        }
      ]
    },
    {
      "cell_type": "markdown",
      "metadata": {
        "id": "d_fHExX3oEVz"
      },
      "source": [
        "## Amostragem Sistemática "
      ]
    },
    {
      "cell_type": "code",
      "source": [
        "# Amostragem sistemática com passo e primeiro valor definidos\n",
        "passo = 25\n",
        "inicial = 132\n",
        "indices = np.arange(inicial,df.shape[0],passo)\n",
        "amostra = df.loc[indices]\n",
        "amostra\n"
      ],
      "metadata": {
        "id": "BMwm9x8rIfJL",
        "outputId": "afbe2f6a-56f6-4d2c-ba02-35a88188f56a",
        "colab": {
          "base_uri": "https://localhost:8080/",
          "height": 424
        }
      },
      "execution_count": 25,
      "outputs": [
        {
          "output_type": "execute_result",
          "data": {
            "text/plain": [
              "      Store        Date  Weekly_Sales  Holiday_Flag  Temperature  Fuel_Price  \\\n",
              "132       1  17-08-2012    1597868.05             0        84.85       3.571   \n",
              "157       2  14-05-2010    1880752.36             0        73.31       2.854   \n",
              "182       2  05-11-2010    1939061.41             0        57.85       2.689   \n",
              "207       2  29-04-2011    1745545.28             0        69.21       3.810   \n",
              "232       2  21-10-2011    1834680.25             0        64.53       3.353   \n",
              "...     ...         ...           ...           ...          ...         ...   \n",
              "6332     45  12-11-2010     765648.93             0        46.14       2.931   \n",
              "6357     45  06-05-2011     810150.64             0        58.21       4.046   \n",
              "6382     45  28-10-2011     781694.57             0        51.78       3.569   \n",
              "6407     45  20-04-2012     776661.74             0        63.13       4.027   \n",
              "6432     45  12-10-2012     734464.36             0        54.47       4.000   \n",
              "\n",
              "             CPI  Unemployment  \n",
              "132   222.038411         6.908  \n",
              "157   209.998458         8.200  \n",
              "182   211.613505         8.163  \n",
              "207   215.277268         7.931  \n",
              "232   217.165004         7.441  \n",
              "...          ...           ...  \n",
              "6332  182.991613         8.724  \n",
              "6357  185.937438         8.521  \n",
              "6382  187.877491         8.523  \n",
              "6407  190.813801         8.567  \n",
              "6432  192.327265         8.667  \n",
              "\n",
              "[253 rows x 8 columns]"
            ],
            "text/html": [
              "\n",
              "  <div id=\"df-5e357986-730d-4890-b8e7-34307ea82351\">\n",
              "    <div class=\"colab-df-container\">\n",
              "      <div>\n",
              "<style scoped>\n",
              "    .dataframe tbody tr th:only-of-type {\n",
              "        vertical-align: middle;\n",
              "    }\n",
              "\n",
              "    .dataframe tbody tr th {\n",
              "        vertical-align: top;\n",
              "    }\n",
              "\n",
              "    .dataframe thead th {\n",
              "        text-align: right;\n",
              "    }\n",
              "</style>\n",
              "<table border=\"1\" class=\"dataframe\">\n",
              "  <thead>\n",
              "    <tr style=\"text-align: right;\">\n",
              "      <th></th>\n",
              "      <th>Store</th>\n",
              "      <th>Date</th>\n",
              "      <th>Weekly_Sales</th>\n",
              "      <th>Holiday_Flag</th>\n",
              "      <th>Temperature</th>\n",
              "      <th>Fuel_Price</th>\n",
              "      <th>CPI</th>\n",
              "      <th>Unemployment</th>\n",
              "    </tr>\n",
              "  </thead>\n",
              "  <tbody>\n",
              "    <tr>\n",
              "      <th>132</th>\n",
              "      <td>1</td>\n",
              "      <td>17-08-2012</td>\n",
              "      <td>1597868.05</td>\n",
              "      <td>0</td>\n",
              "      <td>84.85</td>\n",
              "      <td>3.571</td>\n",
              "      <td>222.038411</td>\n",
              "      <td>6.908</td>\n",
              "    </tr>\n",
              "    <tr>\n",
              "      <th>157</th>\n",
              "      <td>2</td>\n",
              "      <td>14-05-2010</td>\n",
              "      <td>1880752.36</td>\n",
              "      <td>0</td>\n",
              "      <td>73.31</td>\n",
              "      <td>2.854</td>\n",
              "      <td>209.998458</td>\n",
              "      <td>8.200</td>\n",
              "    </tr>\n",
              "    <tr>\n",
              "      <th>182</th>\n",
              "      <td>2</td>\n",
              "      <td>05-11-2010</td>\n",
              "      <td>1939061.41</td>\n",
              "      <td>0</td>\n",
              "      <td>57.85</td>\n",
              "      <td>2.689</td>\n",
              "      <td>211.613505</td>\n",
              "      <td>8.163</td>\n",
              "    </tr>\n",
              "    <tr>\n",
              "      <th>207</th>\n",
              "      <td>2</td>\n",
              "      <td>29-04-2011</td>\n",
              "      <td>1745545.28</td>\n",
              "      <td>0</td>\n",
              "      <td>69.21</td>\n",
              "      <td>3.810</td>\n",
              "      <td>215.277268</td>\n",
              "      <td>7.931</td>\n",
              "    </tr>\n",
              "    <tr>\n",
              "      <th>232</th>\n",
              "      <td>2</td>\n",
              "      <td>21-10-2011</td>\n",
              "      <td>1834680.25</td>\n",
              "      <td>0</td>\n",
              "      <td>64.53</td>\n",
              "      <td>3.353</td>\n",
              "      <td>217.165004</td>\n",
              "      <td>7.441</td>\n",
              "    </tr>\n",
              "    <tr>\n",
              "      <th>...</th>\n",
              "      <td>...</td>\n",
              "      <td>...</td>\n",
              "      <td>...</td>\n",
              "      <td>...</td>\n",
              "      <td>...</td>\n",
              "      <td>...</td>\n",
              "      <td>...</td>\n",
              "      <td>...</td>\n",
              "    </tr>\n",
              "    <tr>\n",
              "      <th>6332</th>\n",
              "      <td>45</td>\n",
              "      <td>12-11-2010</td>\n",
              "      <td>765648.93</td>\n",
              "      <td>0</td>\n",
              "      <td>46.14</td>\n",
              "      <td>2.931</td>\n",
              "      <td>182.991613</td>\n",
              "      <td>8.724</td>\n",
              "    </tr>\n",
              "    <tr>\n",
              "      <th>6357</th>\n",
              "      <td>45</td>\n",
              "      <td>06-05-2011</td>\n",
              "      <td>810150.64</td>\n",
              "      <td>0</td>\n",
              "      <td>58.21</td>\n",
              "      <td>4.046</td>\n",
              "      <td>185.937438</td>\n",
              "      <td>8.521</td>\n",
              "    </tr>\n",
              "    <tr>\n",
              "      <th>6382</th>\n",
              "      <td>45</td>\n",
              "      <td>28-10-2011</td>\n",
              "      <td>781694.57</td>\n",
              "      <td>0</td>\n",
              "      <td>51.78</td>\n",
              "      <td>3.569</td>\n",
              "      <td>187.877491</td>\n",
              "      <td>8.523</td>\n",
              "    </tr>\n",
              "    <tr>\n",
              "      <th>6407</th>\n",
              "      <td>45</td>\n",
              "      <td>20-04-2012</td>\n",
              "      <td>776661.74</td>\n",
              "      <td>0</td>\n",
              "      <td>63.13</td>\n",
              "      <td>4.027</td>\n",
              "      <td>190.813801</td>\n",
              "      <td>8.567</td>\n",
              "    </tr>\n",
              "    <tr>\n",
              "      <th>6432</th>\n",
              "      <td>45</td>\n",
              "      <td>12-10-2012</td>\n",
              "      <td>734464.36</td>\n",
              "      <td>0</td>\n",
              "      <td>54.47</td>\n",
              "      <td>4.000</td>\n",
              "      <td>192.327265</td>\n",
              "      <td>8.667</td>\n",
              "    </tr>\n",
              "  </tbody>\n",
              "</table>\n",
              "<p>253 rows × 8 columns</p>\n",
              "</div>\n",
              "      <button class=\"colab-df-convert\" onclick=\"convertToInteractive('df-5e357986-730d-4890-b8e7-34307ea82351')\"\n",
              "              title=\"Convert this dataframe to an interactive table.\"\n",
              "              style=\"display:none;\">\n",
              "        \n",
              "  <svg xmlns=\"http://www.w3.org/2000/svg\" height=\"24px\"viewBox=\"0 0 24 24\"\n",
              "       width=\"24px\">\n",
              "    <path d=\"M0 0h24v24H0V0z\" fill=\"none\"/>\n",
              "    <path d=\"M18.56 5.44l.94 2.06.94-2.06 2.06-.94-2.06-.94-.94-2.06-.94 2.06-2.06.94zm-11 1L8.5 8.5l.94-2.06 2.06-.94-2.06-.94L8.5 2.5l-.94 2.06-2.06.94zm10 10l.94 2.06.94-2.06 2.06-.94-2.06-.94-.94-2.06-.94 2.06-2.06.94z\"/><path d=\"M17.41 7.96l-1.37-1.37c-.4-.4-.92-.59-1.43-.59-.52 0-1.04.2-1.43.59L10.3 9.45l-7.72 7.72c-.78.78-.78 2.05 0 2.83L4 21.41c.39.39.9.59 1.41.59.51 0 1.02-.2 1.41-.59l7.78-7.78 2.81-2.81c.8-.78.8-2.07 0-2.86zM5.41 20L4 18.59l7.72-7.72 1.47 1.35L5.41 20z\"/>\n",
              "  </svg>\n",
              "      </button>\n",
              "      \n",
              "  <style>\n",
              "    .colab-df-container {\n",
              "      display:flex;\n",
              "      flex-wrap:wrap;\n",
              "      gap: 12px;\n",
              "    }\n",
              "\n",
              "    .colab-df-convert {\n",
              "      background-color: #E8F0FE;\n",
              "      border: none;\n",
              "      border-radius: 50%;\n",
              "      cursor: pointer;\n",
              "      display: none;\n",
              "      fill: #1967D2;\n",
              "      height: 32px;\n",
              "      padding: 0 0 0 0;\n",
              "      width: 32px;\n",
              "    }\n",
              "\n",
              "    .colab-df-convert:hover {\n",
              "      background-color: #E2EBFA;\n",
              "      box-shadow: 0px 1px 2px rgba(60, 64, 67, 0.3), 0px 1px 3px 1px rgba(60, 64, 67, 0.15);\n",
              "      fill: #174EA6;\n",
              "    }\n",
              "\n",
              "    [theme=dark] .colab-df-convert {\n",
              "      background-color: #3B4455;\n",
              "      fill: #D2E3FC;\n",
              "    }\n",
              "\n",
              "    [theme=dark] .colab-df-convert:hover {\n",
              "      background-color: #434B5C;\n",
              "      box-shadow: 0px 1px 3px 1px rgba(0, 0, 0, 0.15);\n",
              "      filter: drop-shadow(0px 1px 2px rgba(0, 0, 0, 0.3));\n",
              "      fill: #FFFFFF;\n",
              "    }\n",
              "  </style>\n",
              "\n",
              "      <script>\n",
              "        const buttonEl =\n",
              "          document.querySelector('#df-5e357986-730d-4890-b8e7-34307ea82351 button.colab-df-convert');\n",
              "        buttonEl.style.display =\n",
              "          google.colab.kernel.accessAllowed ? 'block' : 'none';\n",
              "\n",
              "        async function convertToInteractive(key) {\n",
              "          const element = document.querySelector('#df-5e357986-730d-4890-b8e7-34307ea82351');\n",
              "          const dataTable =\n",
              "            await google.colab.kernel.invokeFunction('convertToInteractive',\n",
              "                                                     [key], {});\n",
              "          if (!dataTable) return;\n",
              "\n",
              "          const docLinkHtml = 'Like what you see? Visit the ' +\n",
              "            '<a target=\"_blank\" href=https://colab.research.google.com/notebooks/data_table.ipynb>data table notebook</a>'\n",
              "            + ' to learn more about interactive tables.';\n",
              "          element.innerHTML = '';\n",
              "          dataTable['output_type'] = 'display_data';\n",
              "          await google.colab.output.renderOutput(dataTable, element);\n",
              "          const docLink = document.createElement('div');\n",
              "          docLink.innerHTML = docLinkHtml;\n",
              "          element.appendChild(docLink);\n",
              "        }\n",
              "      </script>\n",
              "    </div>\n",
              "  </div>\n",
              "  "
            ]
          },
          "metadata": {},
          "execution_count": 25
        }
      ]
    },
    {
      "cell_type": "markdown",
      "metadata": {
        "id": "6g1OmQlGoFDO"
      },
      "source": [
        "## Amostragem Estratificada "
      ]
    },
    {
      "cell_type": "code",
      "source": [
        "# Verificando quantos tipos diferentes de classe temos na amostra\n",
        "df['Store'].value_counts()"
      ],
      "metadata": {
        "id": "EUwfD6QNI5K6",
        "outputId": "c4d2a156-2df4-4908-e335-84835ec485ad",
        "colab": {
          "base_uri": "https://localhost:8080/"
        }
      },
      "execution_count": 31,
      "outputs": [
        {
          "output_type": "execute_result",
          "data": {
            "text/plain": [
              "1     143\n",
              "24    143\n",
              "26    143\n",
              "27    143\n",
              "28    143\n",
              "29    143\n",
              "30    143\n",
              "31    143\n",
              "32    143\n",
              "33    143\n",
              "34    143\n",
              "35    143\n",
              "36    143\n",
              "37    143\n",
              "38    143\n",
              "39    143\n",
              "40    143\n",
              "41    143\n",
              "42    143\n",
              "43    143\n",
              "44    143\n",
              "25    143\n",
              "23    143\n",
              "2     143\n",
              "22    143\n",
              "3     143\n",
              "4     143\n",
              "5     143\n",
              "6     143\n",
              "7     143\n",
              "8     143\n",
              "9     143\n",
              "10    143\n",
              "11    143\n",
              "12    143\n",
              "13    143\n",
              "14    143\n",
              "15    143\n",
              "16    143\n",
              "17    143\n",
              "18    143\n",
              "19    143\n",
              "20    143\n",
              "21    143\n",
              "45    143\n",
              "Name: Store, dtype: int64"
            ]
          },
          "metadata": {},
          "execution_count": 31
        }
      ]
    },
    {
      "cell_type": "code",
      "source": [
        "from sklearn.model_selection import train_test_split\n",
        "\n",
        "# Amostragem estratificada usando train_test_split\n",
        "X_1, X_2 = train_test_split(df, test_size = 100 #Tamanho da amostra X_2 - Amostra alvo\n",
        "                            , stratify = df['Store'])\n",
        "X_2['Store'].value_counts()"
      ],
      "metadata": {
        "id": "cMBy6A9pI-Wk",
        "outputId": "0d2323b8-82dd-4bd2-d76f-f780ed9ee0d0",
        "colab": {
          "base_uri": "https://localhost:8080/"
        }
      },
      "execution_count": 36,
      "outputs": [
        {
          "output_type": "execute_result",
          "data": {
            "text/plain": [
              "29    3\n",
              "37    3\n",
              "22    3\n",
              "1     3\n",
              "7     3\n",
              "8     3\n",
              "18    3\n",
              "35    3\n",
              "26    3\n",
              "23    3\n",
              "6     2\n",
              "16    2\n",
              "11    2\n",
              "5     2\n",
              "9     2\n",
              "28    2\n",
              "25    2\n",
              "2     2\n",
              "19    2\n",
              "34    2\n",
              "27    2\n",
              "45    2\n",
              "31    2\n",
              "43    2\n",
              "41    2\n",
              "12    2\n",
              "14    2\n",
              "17    2\n",
              "39    2\n",
              "20    2\n",
              "38    2\n",
              "10    2\n",
              "33    2\n",
              "24    2\n",
              "42    2\n",
              "4     2\n",
              "13    2\n",
              "15    2\n",
              "32    2\n",
              "30    2\n",
              "3     2\n",
              "36    2\n",
              "40    2\n",
              "44    2\n",
              "21    2\n",
              "Name: Store, dtype: int64"
            ]
          },
          "metadata": {},
          "execution_count": 36
        }
      ]
    },
    {
      "cell_type": "markdown",
      "metadata": {
        "id": "1rDmAY66L-cF"
      },
      "source": [
        "## Amostragem Clusterizada "
      ]
    },
    {
      "cell_type": "code",
      "source": [
        "# Amostragem clusterizada selecionando apenas algumas semanas da loja 20\n",
        "amostra = df[df['Store']==20].sample(frac=0.1)\n",
        "amostra"
      ],
      "metadata": {
        "id": "bfj6mkN7JlEq",
        "outputId": "b3bab33c-54f6-48a7-9826-76f0d325c5fb",
        "colab": {
          "base_uri": "https://localhost:8080/",
          "height": 488
        }
      },
      "execution_count": 37,
      "outputs": [
        {
          "output_type": "execute_result",
          "data": {
            "text/plain": [
              "      Store        Date  Weekly_Sales  Holiday_Flag  Temperature  Fuel_Price  \\\n",
              "2813     20  09-12-2011    2546123.78             0        41.64       3.415   \n",
              "2740     20  16-07-2010    2031852.16             0        75.14       2.783   \n",
              "2747     20  03-09-2010    2121561.41             0        75.50       2.715   \n",
              "2842     20  29-06-2012    2055952.61             0        74.15       3.506   \n",
              "2766     20  14-01-2011    1884345.01             0        20.39       3.205   \n",
              "2786     20  03-06-2011    2182246.69             0        73.51       3.922   \n",
              "2803     20  30-09-2011    1945808.26             0        63.44       3.645   \n",
              "2795     20  05-08-2011    2189353.63             0        77.80       3.842   \n",
              "2769     20  04-02-2011    2351143.07             0        28.58       3.231   \n",
              "2739     20  09-07-2010    2107285.85             0        78.09       2.793   \n",
              "2764     20  31-12-2010    1799737.79             1        28.85       3.179   \n",
              "2719     20  19-02-2010    2161549.76             0        25.43       2.745   \n",
              "2736     20  18-06-2010    2091903.63             0        72.62       2.780   \n",
              "2727     20  16-04-2010    1985784.59             0        55.43       2.899   \n",
              "\n",
              "             CPI  Unemployment  \n",
              "2813  211.866786         7.082  \n",
              "2740  204.357166         7.527  \n",
              "2747  204.758357         7.527  \n",
              "2842  214.646676         7.139  \n",
              "2766  204.702604         7.343  \n",
              "2786  208.355112         7.287  \n",
              "2803  209.807836         7.274  \n",
              "2795  208.719238         7.274  \n",
              "2769  205.732941         7.343  \n",
              "2739  204.362566         7.527  \n",
              "2764  204.643227         7.484  \n",
              "2719  204.432100         8.187  \n",
              "2736  204.670036         7.856  \n",
              "2727  203.730749         7.856  "
            ],
            "text/html": [
              "\n",
              "  <div id=\"df-6552944b-df44-45c2-888b-c3ebec538653\">\n",
              "    <div class=\"colab-df-container\">\n",
              "      <div>\n",
              "<style scoped>\n",
              "    .dataframe tbody tr th:only-of-type {\n",
              "        vertical-align: middle;\n",
              "    }\n",
              "\n",
              "    .dataframe tbody tr th {\n",
              "        vertical-align: top;\n",
              "    }\n",
              "\n",
              "    .dataframe thead th {\n",
              "        text-align: right;\n",
              "    }\n",
              "</style>\n",
              "<table border=\"1\" class=\"dataframe\">\n",
              "  <thead>\n",
              "    <tr style=\"text-align: right;\">\n",
              "      <th></th>\n",
              "      <th>Store</th>\n",
              "      <th>Date</th>\n",
              "      <th>Weekly_Sales</th>\n",
              "      <th>Holiday_Flag</th>\n",
              "      <th>Temperature</th>\n",
              "      <th>Fuel_Price</th>\n",
              "      <th>CPI</th>\n",
              "      <th>Unemployment</th>\n",
              "    </tr>\n",
              "  </thead>\n",
              "  <tbody>\n",
              "    <tr>\n",
              "      <th>2813</th>\n",
              "      <td>20</td>\n",
              "      <td>09-12-2011</td>\n",
              "      <td>2546123.78</td>\n",
              "      <td>0</td>\n",
              "      <td>41.64</td>\n",
              "      <td>3.415</td>\n",
              "      <td>211.866786</td>\n",
              "      <td>7.082</td>\n",
              "    </tr>\n",
              "    <tr>\n",
              "      <th>2740</th>\n",
              "      <td>20</td>\n",
              "      <td>16-07-2010</td>\n",
              "      <td>2031852.16</td>\n",
              "      <td>0</td>\n",
              "      <td>75.14</td>\n",
              "      <td>2.783</td>\n",
              "      <td>204.357166</td>\n",
              "      <td>7.527</td>\n",
              "    </tr>\n",
              "    <tr>\n",
              "      <th>2747</th>\n",
              "      <td>20</td>\n",
              "      <td>03-09-2010</td>\n",
              "      <td>2121561.41</td>\n",
              "      <td>0</td>\n",
              "      <td>75.50</td>\n",
              "      <td>2.715</td>\n",
              "      <td>204.758357</td>\n",
              "      <td>7.527</td>\n",
              "    </tr>\n",
              "    <tr>\n",
              "      <th>2842</th>\n",
              "      <td>20</td>\n",
              "      <td>29-06-2012</td>\n",
              "      <td>2055952.61</td>\n",
              "      <td>0</td>\n",
              "      <td>74.15</td>\n",
              "      <td>3.506</td>\n",
              "      <td>214.646676</td>\n",
              "      <td>7.139</td>\n",
              "    </tr>\n",
              "    <tr>\n",
              "      <th>2766</th>\n",
              "      <td>20</td>\n",
              "      <td>14-01-2011</td>\n",
              "      <td>1884345.01</td>\n",
              "      <td>0</td>\n",
              "      <td>20.39</td>\n",
              "      <td>3.205</td>\n",
              "      <td>204.702604</td>\n",
              "      <td>7.343</td>\n",
              "    </tr>\n",
              "    <tr>\n",
              "      <th>2786</th>\n",
              "      <td>20</td>\n",
              "      <td>03-06-2011</td>\n",
              "      <td>2182246.69</td>\n",
              "      <td>0</td>\n",
              "      <td>73.51</td>\n",
              "      <td>3.922</td>\n",
              "      <td>208.355112</td>\n",
              "      <td>7.287</td>\n",
              "    </tr>\n",
              "    <tr>\n",
              "      <th>2803</th>\n",
              "      <td>20</td>\n",
              "      <td>30-09-2011</td>\n",
              "      <td>1945808.26</td>\n",
              "      <td>0</td>\n",
              "      <td>63.44</td>\n",
              "      <td>3.645</td>\n",
              "      <td>209.807836</td>\n",
              "      <td>7.274</td>\n",
              "    </tr>\n",
              "    <tr>\n",
              "      <th>2795</th>\n",
              "      <td>20</td>\n",
              "      <td>05-08-2011</td>\n",
              "      <td>2189353.63</td>\n",
              "      <td>0</td>\n",
              "      <td>77.80</td>\n",
              "      <td>3.842</td>\n",
              "      <td>208.719238</td>\n",
              "      <td>7.274</td>\n",
              "    </tr>\n",
              "    <tr>\n",
              "      <th>2769</th>\n",
              "      <td>20</td>\n",
              "      <td>04-02-2011</td>\n",
              "      <td>2351143.07</td>\n",
              "      <td>0</td>\n",
              "      <td>28.58</td>\n",
              "      <td>3.231</td>\n",
              "      <td>205.732941</td>\n",
              "      <td>7.343</td>\n",
              "    </tr>\n",
              "    <tr>\n",
              "      <th>2739</th>\n",
              "      <td>20</td>\n",
              "      <td>09-07-2010</td>\n",
              "      <td>2107285.85</td>\n",
              "      <td>0</td>\n",
              "      <td>78.09</td>\n",
              "      <td>2.793</td>\n",
              "      <td>204.362566</td>\n",
              "      <td>7.527</td>\n",
              "    </tr>\n",
              "    <tr>\n",
              "      <th>2764</th>\n",
              "      <td>20</td>\n",
              "      <td>31-12-2010</td>\n",
              "      <td>1799737.79</td>\n",
              "      <td>1</td>\n",
              "      <td>28.85</td>\n",
              "      <td>3.179</td>\n",
              "      <td>204.643227</td>\n",
              "      <td>7.484</td>\n",
              "    </tr>\n",
              "    <tr>\n",
              "      <th>2719</th>\n",
              "      <td>20</td>\n",
              "      <td>19-02-2010</td>\n",
              "      <td>2161549.76</td>\n",
              "      <td>0</td>\n",
              "      <td>25.43</td>\n",
              "      <td>2.745</td>\n",
              "      <td>204.432100</td>\n",
              "      <td>8.187</td>\n",
              "    </tr>\n",
              "    <tr>\n",
              "      <th>2736</th>\n",
              "      <td>20</td>\n",
              "      <td>18-06-2010</td>\n",
              "      <td>2091903.63</td>\n",
              "      <td>0</td>\n",
              "      <td>72.62</td>\n",
              "      <td>2.780</td>\n",
              "      <td>204.670036</td>\n",
              "      <td>7.856</td>\n",
              "    </tr>\n",
              "    <tr>\n",
              "      <th>2727</th>\n",
              "      <td>20</td>\n",
              "      <td>16-04-2010</td>\n",
              "      <td>1985784.59</td>\n",
              "      <td>0</td>\n",
              "      <td>55.43</td>\n",
              "      <td>2.899</td>\n",
              "      <td>203.730749</td>\n",
              "      <td>7.856</td>\n",
              "    </tr>\n",
              "  </tbody>\n",
              "</table>\n",
              "</div>\n",
              "      <button class=\"colab-df-convert\" onclick=\"convertToInteractive('df-6552944b-df44-45c2-888b-c3ebec538653')\"\n",
              "              title=\"Convert this dataframe to an interactive table.\"\n",
              "              style=\"display:none;\">\n",
              "        \n",
              "  <svg xmlns=\"http://www.w3.org/2000/svg\" height=\"24px\"viewBox=\"0 0 24 24\"\n",
              "       width=\"24px\">\n",
              "    <path d=\"M0 0h24v24H0V0z\" fill=\"none\"/>\n",
              "    <path d=\"M18.56 5.44l.94 2.06.94-2.06 2.06-.94-2.06-.94-.94-2.06-.94 2.06-2.06.94zm-11 1L8.5 8.5l.94-2.06 2.06-.94-2.06-.94L8.5 2.5l-.94 2.06-2.06.94zm10 10l.94 2.06.94-2.06 2.06-.94-2.06-.94-.94-2.06-.94 2.06-2.06.94z\"/><path d=\"M17.41 7.96l-1.37-1.37c-.4-.4-.92-.59-1.43-.59-.52 0-1.04.2-1.43.59L10.3 9.45l-7.72 7.72c-.78.78-.78 2.05 0 2.83L4 21.41c.39.39.9.59 1.41.59.51 0 1.02-.2 1.41-.59l7.78-7.78 2.81-2.81c.8-.78.8-2.07 0-2.86zM5.41 20L4 18.59l7.72-7.72 1.47 1.35L5.41 20z\"/>\n",
              "  </svg>\n",
              "      </button>\n",
              "      \n",
              "  <style>\n",
              "    .colab-df-container {\n",
              "      display:flex;\n",
              "      flex-wrap:wrap;\n",
              "      gap: 12px;\n",
              "    }\n",
              "\n",
              "    .colab-df-convert {\n",
              "      background-color: #E8F0FE;\n",
              "      border: none;\n",
              "      border-radius: 50%;\n",
              "      cursor: pointer;\n",
              "      display: none;\n",
              "      fill: #1967D2;\n",
              "      height: 32px;\n",
              "      padding: 0 0 0 0;\n",
              "      width: 32px;\n",
              "    }\n",
              "\n",
              "    .colab-df-convert:hover {\n",
              "      background-color: #E2EBFA;\n",
              "      box-shadow: 0px 1px 2px rgba(60, 64, 67, 0.3), 0px 1px 3px 1px rgba(60, 64, 67, 0.15);\n",
              "      fill: #174EA6;\n",
              "    }\n",
              "\n",
              "    [theme=dark] .colab-df-convert {\n",
              "      background-color: #3B4455;\n",
              "      fill: #D2E3FC;\n",
              "    }\n",
              "\n",
              "    [theme=dark] .colab-df-convert:hover {\n",
              "      background-color: #434B5C;\n",
              "      box-shadow: 0px 1px 3px 1px rgba(0, 0, 0, 0.15);\n",
              "      filter: drop-shadow(0px 1px 2px rgba(0, 0, 0, 0.3));\n",
              "      fill: #FFFFFF;\n",
              "    }\n",
              "  </style>\n",
              "\n",
              "      <script>\n",
              "        const buttonEl =\n",
              "          document.querySelector('#df-6552944b-df44-45c2-888b-c3ebec538653 button.colab-df-convert');\n",
              "        buttonEl.style.display =\n",
              "          google.colab.kernel.accessAllowed ? 'block' : 'none';\n",
              "\n",
              "        async function convertToInteractive(key) {\n",
              "          const element = document.querySelector('#df-6552944b-df44-45c2-888b-c3ebec538653');\n",
              "          const dataTable =\n",
              "            await google.colab.kernel.invokeFunction('convertToInteractive',\n",
              "                                                     [key], {});\n",
              "          if (!dataTable) return;\n",
              "\n",
              "          const docLinkHtml = 'Like what you see? Visit the ' +\n",
              "            '<a target=\"_blank\" href=https://colab.research.google.com/notebooks/data_table.ipynb>data table notebook</a>'\n",
              "            + ' to learn more about interactive tables.';\n",
              "          element.innerHTML = '';\n",
              "          dataTable['output_type'] = 'display_data';\n",
              "          await google.colab.output.renderOutput(dataTable, element);\n",
              "          const docLink = document.createElement('div');\n",
              "          docLink.innerHTML = docLinkHtml;\n",
              "          element.appendChild(docLink);\n",
              "        }\n",
              "      </script>\n",
              "    </div>\n",
              "  </div>\n",
              "  "
            ]
          },
          "metadata": {},
          "execution_count": 37
        }
      ]
    },
    {
      "cell_type": "markdown",
      "source": [
        "# Etapa 03 (PLUS)"
      ],
      "metadata": {
        "id": "Uml1d84Ap7Rv"
      }
    },
    {
      "cell_type": "markdown",
      "source": [
        "## Distribuição Normal\n",
        "\n",
        "\n",
        "<img alt=\"Correlação\" width=\"85%\" src=\"https://proeducacional.com/packages/uploads/2020/08/img_5f2ae87aaa0c2.png\">\n"
      ],
      "metadata": {
        "id": "HRrl2bQdCaM4"
      }
    },
    {
      "cell_type": "markdown",
      "source": [
        "A partir deste momento, vamos analisar somente os dados da loja 20 conforme foi pedido lá em cima. Usando todos os dados da loja 20, veja se as vendas seguem uma distribuição normal."
      ],
      "metadata": {
        "id": "mfmGB8_9CbyT"
      }
    },
    {
      "cell_type": "code",
      "source": [
        "# Filtrando o dataset e vendo seu histograma\n",
        "\n",
        "np.random.seed(0) # Gera a semente aleatória\n",
        "normal_points = np.random.normal(0,1,10**3) # gera 10**3 pontos dentro de uma distribuição normal\n",
        "sns.histplot(x= normal_points,kde=True,stat='probability') # Plota a distripuição dos dados\n",
        "\n",
        "k2, p = stats.normaltest(normal_points) # Realiza o teste normal\n",
        "alpha = 1e-3 # Probabilidade limite - caso o p (probabilidade do teste ser verdade) for menor que esse valor, então a hipótese nula pode ser rejeitada\n",
        "\n",
        "\n",
        "print(\"p = {:g}\".format(p))\n",
        "#p = 0.890035\n",
        "if p < alpha:  # H0: os dados seguem uma distribuição normal\n",
        "    print(\"H0 pode ser rejeitado\")\n",
        "else:\n",
        "    print(\"H0 não pode ser rejeitado\")"
      ],
      "metadata": {
        "id": "-Tlxg_sqKxFN",
        "outputId": "de827492-aacd-425c-8f68-ba6652b4e80d",
        "colab": {
          "base_uri": "https://localhost:8080/",
          "height": 300
        }
      },
      "execution_count": 39,
      "outputs": [
        {
          "output_type": "stream",
          "name": "stdout",
          "text": [
            "p = 0.890035\n",
            "H0 não pode ser rejeitado\n"
          ]
        },
        {
          "output_type": "display_data",
          "data": {
            "text/plain": [
              "<Figure size 432x288 with 1 Axes>"
            ],
            "image/png": "[encoded data removed]"
          },
          "metadata": {
            "needs_background": "light"
          }
        }
      ]
    },
    {
      "cell_type": "code",
      "source": [
        "sns.histplot(data=df[df['Store']==20],x='Weekly_Sales',kde=True)\n",
        "\n",
        "k2, p = stats.normaltest(df.Weekly_Sales)\n",
        "print(\"p = {:g}\".format(p))\n",
        "if p < alpha:  # H0: os dados seguem uma distribuição normal\n",
        "    print(\"H0 pode ser rejeitado\")\n",
        "else:\n",
        "    print(\"H0 não pode ser rejeitado\")"
      ],
      "metadata": {
        "id": "a449OOodK04A",
        "outputId": "b3db26c0-45c2-4a96-a57a-c134d6a3c974",
        "colab": {
          "base_uri": "https://localhost:8080/",
          "height": 315
        }
      },
      "execution_count": 41,
      "outputs": [
        {
          "output_type": "stream",
          "name": "stdout",
          "text": [
            "p = 9.06882e-88\n",
            "H0 pode ser rejeitado\n"
          ]
        },
        {
          "output_type": "display_data",
          "data": {
            "text/plain": [
              "<Figure size 432x288 with 1 Axes>"
            ],
            "image/png": "[encoded data removed]"
          },
          "metadata": {
            "needs_background": "light"
          }
        }
      ]
    },
    {
      "cell_type": "markdown",
      "source": [
        "<img alt=\"Correlação\" width=\"85%\" src=\"https://www.dummies.com/wp-content/uploads/451825.image0.jpg\">\n",
        "\n",
        "\n",
        "\n"
      ],
      "metadata": {
        "id": "MSyR6udPMFgR"
      }
    },
    {
      "cell_type": "markdown",
      "source": [
        "<img alt=\"Correlação\" width=\"85%\" src=\"https://www.dummies.com/wp-content/uploads/451825.image0.jpg\">\n",
        "\n",
        "\n",
        "\n"
      ],
      "metadata": {
        "id": "_JO3BYzzCyMC"
      }
    },
    {
      "cell_type": "markdown",
      "source": [
        "![](data:image/png;base64,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)"
      ],
      "metadata": {
        "id": "SMon4nUQC6G-"
      }
    },
    {
      "cell_type": "markdown",
      "source": [
        "![](https://www.statisticshowto.com/wp-content/uploads/2021/12/confidence-limits.bmp)"
      ],
      "metadata": {
        "id": "opVOqOPWC29u"
      }
    },
    {
      "cell_type": "code",
      "source": [
        "# Realizando o teste com uma amostragem aleatória simples com 25 amostras -> Teste T\n",
        "amostra = df[df['Store']==20].sample(25, random_state=0)\n",
        "confidence = 0.95\n",
        "dof = amostra.shape[0]-1\n",
        "\n",
        "interval = stats.t.interval(alpha=confidence, df=dof, loc=amostra.Weekly_Sales.mean(), scale = stats.sem(amostra.Weekly_Sales))\n",
        "interval"
      ],
      "metadata": {
        "id": "MeUaufkML6qB",
        "outputId": "13504c9e-adf5-4634-d1ae-2a03d2d4ff58",
        "colab": {
          "base_uri": "https://localhost:8080/"
        }
      },
      "execution_count": 47,
      "outputs": [
        {
          "output_type": "execute_result",
          "data": {
            "text/plain": [
              "(2028917.2499684282, 2255093.4844315723)"
            ]
          },
          "metadata": {},
          "execution_count": 47
        }
      ]
    },
    {
      "cell_type": "code",
      "source": [
        "# Verificando a média da população\n",
        "df[df['Store']==20].Weekly_Sales.mean()"
      ],
      "metadata": {
        "id": "Q7peZV_hNliJ",
        "outputId": "7fdf1a26-f6f6-4232-f474-450f3876a801",
        "colab": {
          "base_uri": "https://localhost:8080/"
        }
      },
      "execution_count": 48,
      "outputs": [
        {
          "output_type": "execute_result",
          "data": {
            "text/plain": [
              "2107676.8703496507"
            ]
          },
          "metadata": {},
          "execution_count": 48
        }
      ]
    },
    {
      "cell_type": "code",
      "source": [
        "# Visualizando a distribuição dos dados como ele são\n",
        "sns.histplot(data=df[df['Store']==20],x='Weekly_Sales',kde=True)\n",
        "plt.axvline(df[df['Store']==20].Weekly_Sales.mean(),0, 40,c='Red', label='Mean')\n",
        "plt.legend()"
      ],
      "metadata": {
        "id": "lTlVfagjDXyT",
        "outputId": "045d64ce-ea56-4144-fc22-513409988cf5",
        "colab": {
          "base_uri": "https://localhost:8080/",
          "height": 297
        }
      },
      "execution_count": 51,
      "outputs": [
        {
          "output_type": "execute_result",
          "data": {
            "text/plain": [
              "<matplotlib.legend.Legend at 0x7f4784daa1d0>"
            ]
          },
          "metadata": {},
          "execution_count": 51
        },
        {
          "output_type": "display_data",
          "data": {
            "text/plain": [
              "<Figure size 432x288 with 1 Axes>"
            ],
            "image/png": "[encoded data removed]"
          },
          "metadata": {
            "needs_background": "light"
          }
        }
      ]
    },
    {
      "cell_type": "code",
      "source": [
        "# Visualizando a distribuição dos dados aplicando o teorema do limite central\n",
        "val_list = []\n",
        "for i in range(10000):\n",
        "  val_list.append(df[df['Store']==20].sample(30).Weekly_Sales.mean())\n",
        "\n",
        "sns.histplot(val_list,kde=True)\n",
        "plt.axvline(np.array(val_list).mean(),0, 40,c='Red', label='Mean')\n",
        "plt.legend()"
      ],
      "metadata": {
        "id": "yz1qjgL_DcPG",
        "outputId": "0ddb628c-bdda-4bd6-b4ef-63ccda4d47d7",
        "colab": {
          "base_uri": "https://localhost:8080/",
          "height": 295
        }
      },
      "execution_count": 52,
      "outputs": [
        {
          "output_type": "execute_result",
          "data": {
            "text/plain": [
              "<matplotlib.legend.Legend at 0x7f4784b51f10>"
            ]
          },
          "metadata": {},
          "execution_count": 52
        },
        {
          "output_type": "display_data",
          "data": {
            "text/plain": [
              "<Figure size 432x288 with 1 Axes>"
            ],
            "image/png": "[encoded data removed]"
          },
          "metadata": {
            "needs_background": "light"
          }
        }
      ]
    },
    {
      "cell_type": "code",
      "source": [
        "# Realizando o teste com uma amostragem aleatória simples com 50 amostras -> Teorema do Limite Central -> Teste Normal\n",
        "amostra = df[df['Store']==20].sample(50, random_state=0)\n",
        "confidence = 0.95\n",
        "\n",
        "interval = stats.norm.interval(alpha=confidence, loc=amostra.Weekly_Sales.mean(), scale = stats.sem(amostra.Weekly_Sales))\n",
        "interval\n"
      ],
      "metadata": {
        "id": "s2mAIEvpM1_B",
        "outputId": "23aba168-47fd-4847-9642-c9bc494c2122",
        "colab": {
          "base_uri": "https://localhost:8080/"
        }
      },
      "execution_count": 53,
      "outputs": [
        {
          "output_type": "execute_result",
          "data": {
            "text/plain": [
              "(2071485.9996257257, 2210783.6619742736)"
            ]
          },
          "metadata": {},
          "execution_count": 53
        }
      ]
    },
    {
      "cell_type": "code",
      "source": [
        "# Verificando a média da população\n",
        "df[df['Store']==20].Weekly_Sales.mean()"
      ],
      "metadata": {
        "id": "PjHelIIvDjF2",
        "outputId": "14b0d433-b1dc-46ed-b159-228d267e7b08",
        "colab": {
          "base_uri": "https://localhost:8080/"
        }
      },
      "execution_count": 54,
      "outputs": [
        {
          "output_type": "execute_result",
          "data": {
            "text/plain": [
              "2107676.8703496507"
            ]
          },
          "metadata": {},
          "execution_count": 54
        }
      ]
    }
  ],
  "metadata": {
    "colab": {
      "collapsed_sections": [
        "IcVa7VlmS6lH",
        "-0aJvykDhAes",
        "tyYTSR_bowS8",
        "bBkfbCMPg6-Q",
        "d_fHExX3oEVz",
        "6g1OmQlGoFDO",
        "1rDmAY66L-cF",
        "Uml1d84Ap7Rv"
      ],
      "provenance": [],
      "include_colab_link": true
    },
    "kernelspec": {
      "display_name": "Python 3",
      "name": "python3"
    },
    "language_info": {
      "name": "python"
    }
  },
  "nbformat": 4,
  "nbformat_minor": 0
}